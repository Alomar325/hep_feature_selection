{
 "cells": [
  {
   "cell_type": "code",
   "execution_count": 1,
   "id": "dcd750bd",
   "metadata": {},
   "outputs": [],
   "source": [
    "import pandas as pd\n",
    "from sklearn.feature_selection import mutual_info_classif\n",
    "from sklearn.model_selection import train_test_split"
   ]
  },
  {
   "cell_type": "code",
   "execution_count": 16,
   "id": "c1cef1c3",
   "metadata": {},
   "outputs": [],
   "source": [
    "df = pd.read_csv(\"/Users/Alex/Downloads/Pre-procesado.csv\")"
   ]
  },
  {
   "cell_type": "code",
   "execution_count": 18,
   "id": "2825acec",
   "metadata": {},
   "outputs": [],
   "source": [
    "df = df.drop(labels=['KaggleSet'], axis=1) #ELIMINE EL KAGGLESET PORQUE OCURRE UN FALLO CON VARIABLES STRING, OTRA COSA SERIA\n",
    "                                           # CAMBIAR ESAS VARIABLES DEL 1 AL 4 PARA USARLAS"
   ]
  },
  {
   "cell_type": "code",
   "execution_count": 19,
   "id": "d9a2702b",
   "metadata": {},
   "outputs": [],
   "source": [
    "# Entrene la división de prueba para evitar el sobreajuste\n",
    "X_train, X_test, y_train, y_test = train_test_split(df.drop(labels=['Label'], axis=1), df['Label'], \n",
    "    test_size=1,\n",
    "    random_state=0)"
   ]
  },
  {
   "cell_type": "code",
   "execution_count": 20,
   "id": "7f149476",
   "metadata": {},
   "outputs": [
    {
     "data": {
      "text/html": [
       "<div>\n",
       "<style scoped>\n",
       "    .dataframe tbody tr th:only-of-type {\n",
       "        vertical-align: middle;\n",
       "    }\n",
       "\n",
       "    .dataframe tbody tr th {\n",
       "        vertical-align: top;\n",
       "    }\n",
       "\n",
       "    .dataframe thead th {\n",
       "        text-align: right;\n",
       "    }\n",
       "</style>\n",
       "<table border=\"1\" class=\"dataframe\">\n",
       "  <thead>\n",
       "    <tr style=\"text-align: right;\">\n",
       "      <th></th>\n",
       "      <th>index</th>\n",
       "      <th>EventId</th>\n",
       "      <th>DER_mass_MMC</th>\n",
       "      <th>DER_mass_transverse_met_lep</th>\n",
       "      <th>DER_mass_vis</th>\n",
       "      <th>DER_pt_h</th>\n",
       "      <th>DER_deltaeta_jet_jet</th>\n",
       "      <th>DER_mass_jet_jet</th>\n",
       "      <th>DER_prodeta_jet_jet</th>\n",
       "      <th>DER_deltar_tau_lep</th>\n",
       "      <th>...</th>\n",
       "      <th>PRI_jet_num</th>\n",
       "      <th>PRI_jet_leading_pt</th>\n",
       "      <th>PRI_jet_leading_eta</th>\n",
       "      <th>PRI_jet_leading_phi</th>\n",
       "      <th>PRI_jet_subleading_pt</th>\n",
       "      <th>PRI_jet_subleading_eta</th>\n",
       "      <th>PRI_jet_subleading_phi</th>\n",
       "      <th>PRI_jet_all_pt</th>\n",
       "      <th>Weight</th>\n",
       "      <th>KaggleWeight</th>\n",
       "    </tr>\n",
       "  </thead>\n",
       "  <tbody>\n",
       "    <tr>\n",
       "      <th>60498</th>\n",
       "      <td>432493</td>\n",
       "      <td>532493</td>\n",
       "      <td>153.541</td>\n",
       "      <td>13.850</td>\n",
       "      <td>83.206</td>\n",
       "      <td>81.976</td>\n",
       "      <td>4.211</td>\n",
       "      <td>719.978</td>\n",
       "      <td>-3.739</td>\n",
       "      <td>2.632</td>\n",
       "      <td>...</td>\n",
       "      <td>2</td>\n",
       "      <td>102.704</td>\n",
       "      <td>-1.272</td>\n",
       "      <td>-1.920</td>\n",
       "      <td>72.803</td>\n",
       "      <td>2.939</td>\n",
       "      <td>0.699</td>\n",
       "      <td>175.507</td>\n",
       "      <td>0.000461</td>\n",
       "      <td>0.000840</td>\n",
       "    </tr>\n",
       "    <tr>\n",
       "      <th>53227</th>\n",
       "      <td>688526</td>\n",
       "      <td>788526</td>\n",
       "      <td>138.446</td>\n",
       "      <td>1.833</td>\n",
       "      <td>62.411</td>\n",
       "      <td>140.682</td>\n",
       "      <td>0.560</td>\n",
       "      <td>170.804</td>\n",
       "      <td>0.552</td>\n",
       "      <td>2.290</td>\n",
       "      <td>...</td>\n",
       "      <td>3</td>\n",
       "      <td>172.656</td>\n",
       "      <td>-0.514</td>\n",
       "      <td>-0.716</td>\n",
       "      <td>69.112</td>\n",
       "      <td>-1.074</td>\n",
       "      <td>-2.313</td>\n",
       "      <td>282.655</td>\n",
       "      <td>0.000461</td>\n",
       "      <td>0.000839</td>\n",
       "    </tr>\n",
       "    <tr>\n",
       "      <th>21333</th>\n",
       "      <td>545779</td>\n",
       "      <td>645779</td>\n",
       "      <td>137.621</td>\n",
       "      <td>88.006</td>\n",
       "      <td>73.570</td>\n",
       "      <td>1.436</td>\n",
       "      <td>-999.000</td>\n",
       "      <td>-999.000</td>\n",
       "      <td>-999.000</td>\n",
       "      <td>3.040</td>\n",
       "      <td>...</td>\n",
       "      <td>0</td>\n",
       "      <td>-999.000</td>\n",
       "      <td>-999.000</td>\n",
       "      <td>-999.000</td>\n",
       "      <td>-999.000</td>\n",
       "      <td>-999.000</td>\n",
       "      <td>-999.000</td>\n",
       "      <td>0.000</td>\n",
       "      <td>0.005721</td>\n",
       "      <td>0.010415</td>\n",
       "    </tr>\n",
       "    <tr>\n",
       "      <th>3885</th>\n",
       "      <td>817228</td>\n",
       "      <td>917228</td>\n",
       "      <td>137.341</td>\n",
       "      <td>16.591</td>\n",
       "      <td>103.245</td>\n",
       "      <td>346.650</td>\n",
       "      <td>1.493</td>\n",
       "      <td>189.269</td>\n",
       "      <td>0.535</td>\n",
       "      <td>1.212</td>\n",
       "      <td>...</td>\n",
       "      <td>3</td>\n",
       "      <td>112.596</td>\n",
       "      <td>1.791</td>\n",
       "      <td>-1.492</td>\n",
       "      <td>109.589</td>\n",
       "      <td>0.298</td>\n",
       "      <td>-1.855</td>\n",
       "      <td>357.919</td>\n",
       "      <td>0.005721</td>\n",
       "      <td>0.259892</td>\n",
       "    </tr>\n",
       "    <tr>\n",
       "      <th>51521</th>\n",
       "      <td>583357</td>\n",
       "      <td>683357</td>\n",
       "      <td>131.239</td>\n",
       "      <td>52.354</td>\n",
       "      <td>104.615</td>\n",
       "      <td>1.051</td>\n",
       "      <td>-999.000</td>\n",
       "      <td>-999.000</td>\n",
       "      <td>-999.000</td>\n",
       "      <td>2.902</td>\n",
       "      <td>...</td>\n",
       "      <td>0</td>\n",
       "      <td>-999.000</td>\n",
       "      <td>-999.000</td>\n",
       "      <td>-999.000</td>\n",
       "      <td>-999.000</td>\n",
       "      <td>-999.000</td>\n",
       "      <td>-999.000</td>\n",
       "      <td>-0.000</td>\n",
       "      <td>0.005721</td>\n",
       "      <td>0.010415</td>\n",
       "    </tr>\n",
       "  </tbody>\n",
       "</table>\n",
       "<p>5 rows × 34 columns</p>\n",
       "</div>"
      ],
      "text/plain": [
       "        index  EventId  DER_mass_MMC  DER_mass_transverse_met_lep  \\\n",
       "60498  432493   532493       153.541                       13.850   \n",
       "53227  688526   788526       138.446                        1.833   \n",
       "21333  545779   645779       137.621                       88.006   \n",
       "3885   817228   917228       137.341                       16.591   \n",
       "51521  583357   683357       131.239                       52.354   \n",
       "\n",
       "       DER_mass_vis  DER_pt_h  DER_deltaeta_jet_jet  DER_mass_jet_jet  \\\n",
       "60498        83.206    81.976                 4.211           719.978   \n",
       "53227        62.411   140.682                 0.560           170.804   \n",
       "21333        73.570     1.436              -999.000          -999.000   \n",
       "3885        103.245   346.650                 1.493           189.269   \n",
       "51521       104.615     1.051              -999.000          -999.000   \n",
       "\n",
       "       DER_prodeta_jet_jet  DER_deltar_tau_lep  ...  PRI_jet_num  \\\n",
       "60498               -3.739               2.632  ...            2   \n",
       "53227                0.552               2.290  ...            3   \n",
       "21333             -999.000               3.040  ...            0   \n",
       "3885                 0.535               1.212  ...            3   \n",
       "51521             -999.000               2.902  ...            0   \n",
       "\n",
       "       PRI_jet_leading_pt  PRI_jet_leading_eta  PRI_jet_leading_phi  \\\n",
       "60498             102.704               -1.272               -1.920   \n",
       "53227             172.656               -0.514               -0.716   \n",
       "21333            -999.000             -999.000             -999.000   \n",
       "3885              112.596                1.791               -1.492   \n",
       "51521            -999.000             -999.000             -999.000   \n",
       "\n",
       "       PRI_jet_subleading_pt  PRI_jet_subleading_eta  PRI_jet_subleading_phi  \\\n",
       "60498                 72.803                   2.939                   0.699   \n",
       "53227                 69.112                  -1.074                  -2.313   \n",
       "21333               -999.000                -999.000                -999.000   \n",
       "3885                 109.589                   0.298                  -1.855   \n",
       "51521               -999.000                -999.000                -999.000   \n",
       "\n",
       "       PRI_jet_all_pt    Weight  KaggleWeight  \n",
       "60498         175.507  0.000461      0.000840  \n",
       "53227         282.655  0.000461      0.000839  \n",
       "21333           0.000  0.005721      0.010415  \n",
       "3885          357.919  0.005721      0.259892  \n",
       "51521          -0.000  0.005721      0.010415  \n",
       "\n",
       "[5 rows x 34 columns]"
      ]
     },
     "execution_count": 20,
     "metadata": {},
     "output_type": "execute_result"
    }
   ],
   "source": [
    "X_train.head()"
   ]
  },
  {
   "cell_type": "code",
   "execution_count": 21,
   "id": "75a8fc48",
   "metadata": {},
   "outputs": [
    {
     "data": {
      "text/plain": [
       "array([0.01958788, 0.01972032, 0.16162924, 0.10475438, 0.09073523,\n",
       "       0.03741413, 0.04435359, 0.04291699, 0.04299716, 0.01873539,\n",
       "       0.01415154, 0.04422093, 0.04352583, 0.04864694, 0.03350845,\n",
       "       0.06635565, 0.008551  , 0.00485209, 0.01686453, 0.01609716,\n",
       "       0.00560155, 0.0318435 , 0.00250008, 0.03600421, 0.02031867,\n",
       "       0.03553606, 0.0332062 , 0.02010514, 0.02380496, 0.02996612,\n",
       "       0.02295514, 0.03321586, 0.64111273, 0.64109773])"
      ]
     },
     "execution_count": 21,
     "metadata": {},
     "output_type": "execute_result"
    }
   ],
   "source": [
    "mutual_info = mutual_info_classif(X_train, y_train)\n",
    "mutual_info"
   ]
  },
  {
   "cell_type": "code",
   "execution_count": 22,
   "id": "2f7f0ccd",
   "metadata": {},
   "outputs": [
    {
     "data": {
      "text/plain": [
       "Weight                         0.641113\n",
       "KaggleWeight                   0.641098\n",
       "DER_mass_MMC                   0.161629\n",
       "DER_mass_transverse_met_lep    0.104754\n",
       "DER_mass_vis                   0.090735\n",
       "PRI_tau_pt                     0.066356\n",
       "DER_met_phi_centrality         0.048647\n",
       "DER_deltaeta_jet_jet           0.044354\n",
       "DER_sum_pt                     0.044221\n",
       "DER_pt_ratio_lep_tau           0.043526\n",
       "DER_prodeta_jet_jet            0.042997\n",
       "DER_mass_jet_jet               0.042917\n",
       "DER_pt_h                       0.037414\n",
       "PRI_met_sumet                  0.036004\n",
       "PRI_jet_leading_pt             0.035536\n",
       "DER_lep_eta_centrality         0.033508\n",
       "PRI_jet_all_pt                 0.033216\n",
       "PRI_jet_leading_eta            0.033206\n",
       "PRI_met                        0.031844\n",
       "PRI_jet_subleading_eta         0.029966\n",
       "PRI_jet_subleading_pt          0.023805\n",
       "PRI_jet_subleading_phi         0.022955\n",
       "PRI_jet_num                    0.020319\n",
       "PRI_jet_leading_phi            0.020105\n",
       "EventId                        0.019720\n",
       "index                          0.019588\n",
       "DER_deltar_tau_lep             0.018735\n",
       "PRI_lep_pt                     0.016865\n",
       "PRI_lep_eta                    0.016097\n",
       "DER_pt_tot                     0.014152\n",
       "PRI_tau_eta                    0.008551\n",
       "PRI_lep_phi                    0.005602\n",
       "PRI_tau_phi                    0.004852\n",
       "PRI_met_phi                    0.002500\n",
       "dtype: float64"
      ]
     },
     "execution_count": 22,
     "metadata": {},
     "output_type": "execute_result"
    }
   ],
   "source": [
    "mutual_info = pd.Series(mutual_info)\n",
    "mutual_info.index = X_train.columns\n",
    "mutual_info.sort_values(ascending=False)"
   ]
  },
  {
   "cell_type": "code",
   "execution_count": 23,
   "id": "6a88d4cf",
   "metadata": {},
   "outputs": [
    {
     "data": {
      "text/plain": [
       "<AxesSubplot:>"
      ]
     },
     "execution_count": 23,
     "metadata": {},
     "output_type": "execute_result"
    },
    {
     "data": {
      "image/png": "[encoded data removed]",
      "text/plain": [
       "<Figure size 1440x576 with 1 Axes>"
      ]
     },
     "metadata": {
      "needs_background": "light"
     },
     "output_type": "display_data"
    }
   ],
   "source": [
    "mutual_info.sort_values(ascending=False).plot.bar(figsize=(20, 8))"
   ]
  },
  {
   "cell_type": "code",
   "execution_count": 26,
   "id": "0a0bb585",
   "metadata": {},
   "outputs": [
    {
     "data": {
      "text/plain": [
       "array([0, 1], dtype=int64)"
      ]
     },
     "execution_count": 26,
     "metadata": {},
     "output_type": "execute_result"
    }
   ],
   "source": [
    "df['Label'].unique()"
   ]
  },
  {
   "cell_type": "code",
   "execution_count": null,
   "id": "c1eaa3d7",
   "metadata": {},
   "outputs": [],
   "source": []
  }
 ],
 "metadata": {
  "kernelspec": {
   "display_name": "Python 3 (ipykernel)",
   "language": "python",
   "name": "python3"
  },
  "language_info": {
   "codemirror_mode": {
    "name": "ipython",
    "version": 3
   },
   "file_extension": ".py",
   "mimetype": "text/x-python",
   "name": "python",
   "nbconvert_exporter": "python",
   "pygments_lexer": "ipython3",
   "version": "3.9.7"
  }
 },
 "nbformat": 4,
 "nbformat_minor": 5
}
