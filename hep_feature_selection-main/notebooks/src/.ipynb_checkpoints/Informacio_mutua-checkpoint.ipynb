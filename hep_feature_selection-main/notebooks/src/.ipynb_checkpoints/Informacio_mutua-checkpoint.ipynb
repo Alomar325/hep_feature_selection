{
 "cells": [
  {
   "cell_type": "code",
   "execution_count": 1,
   "id": "dcd750bd",
   "metadata": {},
   "outputs": [],
   "source": [
    "import pandas as pd\n",
    "from sklearn.feature_selection import mutual_info_classif\n",
    "from sklearn.model_selection import train_test_split"
   ]
  },
  {
   "cell_type": "code",
   "execution_count": 2,
   "id": "c1cef1c3",
   "metadata": {},
   "outputs": [],
   "source": [
    "df = pd.read_csv(\"/Users/Alex/Downloads/Pre-procesado.csv\")"
   ]
  },
  {
   "cell_type": "code",
   "execution_count": 3,
   "id": "2825acec",
   "metadata": {},
   "outputs": [],
   "source": [
    "df = df.drop(labels=['KaggleSet'], axis=1) #ELIMINE EL KAGGLESET PORQUE OCURRE UN FALLO CON VARIABLES STRING, OTRA COSA SERIA\n",
    "                                           # CAMBIAR ESAS VARIABLES DEL 1 AL 4 PARA USARLAS"
   ]
  },
  {
   "cell_type": "code",
   "execution_count": 4,
   "id": "d9a2702b",
   "metadata": {},
   "outputs": [],
   "source": [
    "# Entrene la división de prueba para evitar el sobreajuste\n",
    "X_train, X_test, y_train, y_test = train_test_split(df.drop(labels=['Label'], axis=1), df['Label'], \n",
    "    test_size=0.3,\n",
    "    random_state=0)"
   ]
  },
  {
   "cell_type": "code",
   "execution_count": 5,
   "id": "7f149476",
   "metadata": {},
   "outputs": [
    {
     "data": {
      "text/html": [
       "<div>\n",
       "<style scoped>\n",
       "    .dataframe tbody tr th:only-of-type {\n",
       "        vertical-align: middle;\n",
       "    }\n",
       "\n",
       "    .dataframe tbody tr th {\n",
       "        vertical-align: top;\n",
       "    }\n",
       "\n",
       "    .dataframe thead th {\n",
       "        text-align: right;\n",
       "    }\n",
       "</style>\n",
       "<table border=\"1\" class=\"dataframe\">\n",
       "  <thead>\n",
       "    <tr style=\"text-align: right;\">\n",
       "      <th></th>\n",
       "      <th>index</th>\n",
       "      <th>EventId</th>\n",
       "      <th>DER_mass_MMC</th>\n",
       "      <th>DER_mass_transverse_met_lep</th>\n",
       "      <th>DER_mass_vis</th>\n",
       "      <th>DER_pt_h</th>\n",
       "      <th>DER_deltaeta_jet_jet</th>\n",
       "      <th>DER_mass_jet_jet</th>\n",
       "      <th>DER_prodeta_jet_jet</th>\n",
       "      <th>DER_deltar_tau_lep</th>\n",
       "      <th>...</th>\n",
       "      <th>PRI_jet_num</th>\n",
       "      <th>PRI_jet_leading_pt</th>\n",
       "      <th>PRI_jet_leading_eta</th>\n",
       "      <th>PRI_jet_leading_phi</th>\n",
       "      <th>PRI_jet_subleading_pt</th>\n",
       "      <th>PRI_jet_subleading_eta</th>\n",
       "      <th>PRI_jet_subleading_phi</th>\n",
       "      <th>PRI_jet_all_pt</th>\n",
       "      <th>Weight</th>\n",
       "      <th>KaggleWeight</th>\n",
       "    </tr>\n",
       "  </thead>\n",
       "  <tbody>\n",
       "    <tr>\n",
       "      <th>42865</th>\n",
       "      <td>748334</td>\n",
       "      <td>848334</td>\n",
       "      <td>-999.000</td>\n",
       "      <td>69.384</td>\n",
       "      <td>60.036</td>\n",
       "      <td>1.724</td>\n",
       "      <td>-999.000</td>\n",
       "      <td>-999.000</td>\n",
       "      <td>-999.000</td>\n",
       "      <td>1.807</td>\n",
       "      <td>...</td>\n",
       "      <td>0</td>\n",
       "      <td>-999.000</td>\n",
       "      <td>-999.000</td>\n",
       "      <td>-999.000</td>\n",
       "      <td>-999.000</td>\n",
       "      <td>-999.000</td>\n",
       "      <td>-999.000</td>\n",
       "      <td>0.000</td>\n",
       "      <td>1.263615</td>\n",
       "      <td>10.291429</td>\n",
       "    </tr>\n",
       "    <tr>\n",
       "      <th>91446</th>\n",
       "      <td>202076</td>\n",
       "      <td>302076</td>\n",
       "      <td>161.161</td>\n",
       "      <td>25.598</td>\n",
       "      <td>112.392</td>\n",
       "      <td>4.209</td>\n",
       "      <td>-999.000</td>\n",
       "      <td>-999.000</td>\n",
       "      <td>-999.000</td>\n",
       "      <td>3.107</td>\n",
       "      <td>...</td>\n",
       "      <td>0</td>\n",
       "      <td>-999.000</td>\n",
       "      <td>-999.000</td>\n",
       "      <td>-999.000</td>\n",
       "      <td>-999.000</td>\n",
       "      <td>-999.000</td>\n",
       "      <td>-999.000</td>\n",
       "      <td>0.000</td>\n",
       "      <td>0.583286</td>\n",
       "      <td>1.912978</td>\n",
       "    </tr>\n",
       "    <tr>\n",
       "      <th>66374</th>\n",
       "      <td>53972</td>\n",
       "      <td>153972</td>\n",
       "      <td>97.727</td>\n",
       "      <td>20.246</td>\n",
       "      <td>71.254</td>\n",
       "      <td>152.380</td>\n",
       "      <td>2.197</td>\n",
       "      <td>217.417</td>\n",
       "      <td>1.145</td>\n",
       "      <td>1.447</td>\n",
       "      <td>...</td>\n",
       "      <td>2</td>\n",
       "      <td>120.122</td>\n",
       "      <td>-0.435</td>\n",
       "      <td>1.047</td>\n",
       "      <td>47.997</td>\n",
       "      <td>-2.632</td>\n",
       "      <td>2.074</td>\n",
       "      <td>168.119</td>\n",
       "      <td>0.094460</td>\n",
       "      <td>0.309795</td>\n",
       "    </tr>\n",
       "    <tr>\n",
       "      <th>79106</th>\n",
       "      <td>639839</td>\n",
       "      <td>739839</td>\n",
       "      <td>-999.000</td>\n",
       "      <td>95.106</td>\n",
       "      <td>70.705</td>\n",
       "      <td>32.950</td>\n",
       "      <td>-999.000</td>\n",
       "      <td>-999.000</td>\n",
       "      <td>-999.000</td>\n",
       "      <td>1.887</td>\n",
       "      <td>...</td>\n",
       "      <td>0</td>\n",
       "      <td>-999.000</td>\n",
       "      <td>-999.000</td>\n",
       "      <td>-999.000</td>\n",
       "      <td>-999.000</td>\n",
       "      <td>-999.000</td>\n",
       "      <td>-999.000</td>\n",
       "      <td>0.000</td>\n",
       "      <td>0.226870</td>\n",
       "      <td>0.412502</td>\n",
       "    </tr>\n",
       "    <tr>\n",
       "      <th>13404</th>\n",
       "      <td>553050</td>\n",
       "      <td>653050</td>\n",
       "      <td>103.793</td>\n",
       "      <td>44.265</td>\n",
       "      <td>61.976</td>\n",
       "      <td>16.841</td>\n",
       "      <td>-999.000</td>\n",
       "      <td>-999.000</td>\n",
       "      <td>-999.000</td>\n",
       "      <td>3.120</td>\n",
       "      <td>...</td>\n",
       "      <td>0</td>\n",
       "      <td>-999.000</td>\n",
       "      <td>-999.000</td>\n",
       "      <td>-999.000</td>\n",
       "      <td>-999.000</td>\n",
       "      <td>-999.000</td>\n",
       "      <td>-999.000</td>\n",
       "      <td>0.000</td>\n",
       "      <td>0.512740</td>\n",
       "      <td>4.175975</td>\n",
       "    </tr>\n",
       "  </tbody>\n",
       "</table>\n",
       "<p>5 rows × 34 columns</p>\n",
       "</div>"
      ],
      "text/plain": [
       "        index  EventId  DER_mass_MMC  DER_mass_transverse_met_lep  \\\n",
       "42865  748334   848334      -999.000                       69.384   \n",
       "91446  202076   302076       161.161                       25.598   \n",
       "66374   53972   153972        97.727                       20.246   \n",
       "79106  639839   739839      -999.000                       95.106   \n",
       "13404  553050   653050       103.793                       44.265   \n",
       "\n",
       "       DER_mass_vis  DER_pt_h  DER_deltaeta_jet_jet  DER_mass_jet_jet  \\\n",
       "42865        60.036     1.724              -999.000          -999.000   \n",
       "91446       112.392     4.209              -999.000          -999.000   \n",
       "66374        71.254   152.380                 2.197           217.417   \n",
       "79106        70.705    32.950              -999.000          -999.000   \n",
       "13404        61.976    16.841              -999.000          -999.000   \n",
       "\n",
       "       DER_prodeta_jet_jet  DER_deltar_tau_lep  ...  PRI_jet_num  \\\n",
       "42865             -999.000               1.807  ...            0   \n",
       "91446             -999.000               3.107  ...            0   \n",
       "66374                1.145               1.447  ...            2   \n",
       "79106             -999.000               1.887  ...            0   \n",
       "13404             -999.000               3.120  ...            0   \n",
       "\n",
       "       PRI_jet_leading_pt  PRI_jet_leading_eta  PRI_jet_leading_phi  \\\n",
       "42865            -999.000             -999.000             -999.000   \n",
       "91446            -999.000             -999.000             -999.000   \n",
       "66374             120.122               -0.435                1.047   \n",
       "79106            -999.000             -999.000             -999.000   \n",
       "13404            -999.000             -999.000             -999.000   \n",
       "\n",
       "       PRI_jet_subleading_pt  PRI_jet_subleading_eta  PRI_jet_subleading_phi  \\\n",
       "42865               -999.000                -999.000                -999.000   \n",
       "91446               -999.000                -999.000                -999.000   \n",
       "66374                 47.997                  -2.632                   2.074   \n",
       "79106               -999.000                -999.000                -999.000   \n",
       "13404               -999.000                -999.000                -999.000   \n",
       "\n",
       "       PRI_jet_all_pt    Weight  KaggleWeight  \n",
       "42865           0.000  1.263615     10.291429  \n",
       "91446           0.000  0.583286      1.912978  \n",
       "66374         168.119  0.094460      0.309795  \n",
       "79106           0.000  0.226870      0.412502  \n",
       "13404           0.000  0.512740      4.175975  \n",
       "\n",
       "[5 rows x 34 columns]"
      ]
     },
     "execution_count": 5,
     "metadata": {},
     "output_type": "execute_result"
    }
   ],
   "source": [
    "X_train.head()"
   ]
  },
  {
   "cell_type": "code",
   "execution_count": 6,
   "id": "75a8fc48",
   "metadata": {},
   "outputs": [
    {
     "data": {
      "text/plain": [
       "array([0.01151925, 0.01152738, 0.15545629, 0.10093551, 0.08664637,\n",
       "       0.03245727, 0.03939449, 0.03930285, 0.03761716, 0.01734282,\n",
       "       0.00985259, 0.03896179, 0.04025767, 0.04635995, 0.02927957,\n",
       "       0.06379667, 0.01015732, 0.00398872, 0.00884328, 0.01772577,\n",
       "       0.00193606, 0.02823274, 0.00269993, 0.03188631, 0.02229773,\n",
       "       0.0303868 , 0.02971825, 0.01957744, 0.01703415, 0.0265416 ,\n",
       "       0.0222805 , 0.03408038, 0.64132901, 0.64131472])"
      ]
     },
     "execution_count": 6,
     "metadata": {},
     "output_type": "execute_result"
    }
   ],
   "source": [
    "mutual_info = mutual_info_classif(X_train, y_train)\n",
    "mutual_info"
   ]
  },
  {
   "cell_type": "code",
   "execution_count": 7,
   "id": "2f7f0ccd",
   "metadata": {},
   "outputs": [
    {
     "data": {
      "text/plain": [
       "Weight                         0.641329\n",
       "KaggleWeight                   0.641315\n",
       "DER_mass_MMC                   0.155456\n",
       "DER_mass_transverse_met_lep    0.100936\n",
       "DER_mass_vis                   0.086646\n",
       "PRI_tau_pt                     0.063797\n",
       "DER_met_phi_centrality         0.046360\n",
       "DER_pt_ratio_lep_tau           0.040258\n",
       "DER_deltaeta_jet_jet           0.039394\n",
       "DER_mass_jet_jet               0.039303\n",
       "DER_sum_pt                     0.038962\n",
       "DER_prodeta_jet_jet            0.037617\n",
       "PRI_jet_all_pt                 0.034080\n",
       "DER_pt_h                       0.032457\n",
       "PRI_met_sumet                  0.031886\n",
       "PRI_jet_leading_pt             0.030387\n",
       "PRI_jet_leading_eta            0.029718\n",
       "DER_lep_eta_centrality         0.029280\n",
       "PRI_met                        0.028233\n",
       "PRI_jet_subleading_eta         0.026542\n",
       "PRI_jet_num                    0.022298\n",
       "PRI_jet_subleading_phi         0.022281\n",
       "PRI_jet_leading_phi            0.019577\n",
       "PRI_lep_eta                    0.017726\n",
       "DER_deltar_tau_lep             0.017343\n",
       "PRI_jet_subleading_pt          0.017034\n",
       "EventId                        0.011527\n",
       "index                          0.011519\n",
       "PRI_tau_eta                    0.010157\n",
       "DER_pt_tot                     0.009853\n",
       "PRI_lep_pt                     0.008843\n",
       "PRI_tau_phi                    0.003989\n",
       "PRI_met_phi                    0.002700\n",
       "PRI_lep_phi                    0.001936\n",
       "dtype: float64"
      ]
     },
     "execution_count": 7,
     "metadata": {},
     "output_type": "execute_result"
    }
   ],
   "source": [
    "mutual_info = pd.Series(mutual_info)\n",
    "mutual_info.index = X_train.columns\n",
    "mutual_info.sort_values(ascending=False)"
   ]
  },
  {
   "cell_type": "code",
   "execution_count": 8,
   "id": "6a88d4cf",
   "metadata": {},
   "outputs": [
    {
     "data": {
      "text/plain": [
       "<AxesSubplot:>"
      ]
     },
     "execution_count": 8,
     "metadata": {},
     "output_type": "execute_result"
    },
    {
     "data": {
      "image/png": "[encoded data removed]",
      "text/plain": [
       "<Figure size 1440x576 with 1 Axes>"
      ]
     },
     "metadata": {
      "needs_background": "light"
     },
     "output_type": "display_data"
    }
   ],
   "source": [
    "mutual_info.sort_values(ascending=False).plot.bar(figsize=(20, 8))"
   ]
  },
  {
   "cell_type": "code",
   "execution_count": 9,
   "id": "0a0bb585",
   "metadata": {},
   "outputs": [
    {
     "data": {
      "text/plain": [
       "array([0, 1], dtype=int64)"
      ]
     },
     "execution_count": 9,
     "metadata": {},
     "output_type": "execute_result"
    }
   ],
   "source": [
    "df['Label'].unique()"
   ]
  },
  {
   "cell_type": "code",
   "execution_count": null,
   "id": "c1eaa3d7",
   "metadata": {},
   "outputs": [],
   "source": []
  }
 ],
 "metadata": {
  "kernelspec": {
   "display_name": "Python 3 (ipykernel)",
   "language": "python",
   "name": "python3"
  },
  "language_info": {
   "codemirror_mode": {
    "name": "ipython",
    "version": 3
   },
   "file_extension": ".py",
   "mimetype": "text/x-python",
   "name": "python",
   "nbconvert_exporter": "python",
   "pygments_lexer": "ipython3",
   "version": "3.9.7"
  }
 },
 "nbformat": 4,
 "nbformat_minor": 5
}
