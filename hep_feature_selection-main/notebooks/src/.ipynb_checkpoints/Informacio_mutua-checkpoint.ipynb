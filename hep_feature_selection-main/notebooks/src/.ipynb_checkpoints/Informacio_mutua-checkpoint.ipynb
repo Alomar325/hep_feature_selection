{
 "cells": [
  {
   "cell_type": "code",
   "execution_count": 10,
   "id": "dcd750bd",
   "metadata": {},
   "outputs": [],
   "source": [
    "import pandas as pd\n",
    "from sklearn.feature_selection import mutual_info_classif\n",
    "from sklearn.model_selection import train_test_split"
   ]
  },
  {
   "cell_type": "code",
   "execution_count": 3,
   "id": "c1cef1c3",
   "metadata": {},
   "outputs": [],
   "source": [
    "df = pd.read_csv(\"/Users/Alex/Downloads/Pre-procesado.csv\")"
   ]
  },
  {
   "cell_type": "code",
   "execution_count": 4,
   "id": "d9a2702b",
   "metadata": {},
   "outputs": [],
   "source": [
    "# Entrene la división de prueba para evitar el sobreajuste\n",
    "X_train = df.drop(labels=['Label'], axis=1)\n",
    "y_train = df['Label']"
   ]
  },
  {
   "cell_type": "code",
   "execution_count": 5,
   "id": "7f149476",
   "metadata": {},
   "outputs": [
    {
     "data": {
      "text/html": [
       "<div>\n",
       "<style scoped>\n",
       "    .dataframe tbody tr th:only-of-type {\n",
       "        vertical-align: middle;\n",
       "    }\n",
       "\n",
       "    .dataframe tbody tr th {\n",
       "        vertical-align: top;\n",
       "    }\n",
       "\n",
       "    .dataframe thead th {\n",
       "        text-align: right;\n",
       "    }\n",
       "</style>\n",
       "<table border=\"1\" class=\"dataframe\">\n",
       "  <thead>\n",
       "    <tr style=\"text-align: right;\">\n",
       "      <th></th>\n",
       "      <th>DER_mass_MMC</th>\n",
       "      <th>DER_mass_transverse_met_lep</th>\n",
       "      <th>DER_mass_vis</th>\n",
       "      <th>DER_pt_h</th>\n",
       "      <th>DER_deltaeta_jet_jet</th>\n",
       "      <th>DER_mass_jet_jet</th>\n",
       "      <th>DER_prodeta_jet_jet</th>\n",
       "      <th>DER_deltar_tau_lep</th>\n",
       "      <th>DER_pt_tot</th>\n",
       "      <th>DER_sum_pt</th>\n",
       "      <th>...</th>\n",
       "      <th>PRI_jet_num</th>\n",
       "      <th>PRI_jet_leading_pt</th>\n",
       "      <th>PRI_jet_leading_eta</th>\n",
       "      <th>PRI_jet_leading_phi</th>\n",
       "      <th>PRI_jet_subleading_pt</th>\n",
       "      <th>PRI_jet_subleading_eta</th>\n",
       "      <th>PRI_jet_subleading_phi</th>\n",
       "      <th>PRI_jet_all_pt</th>\n",
       "      <th>Weight</th>\n",
       "      <th>KaggleWeight</th>\n",
       "    </tr>\n",
       "  </thead>\n",
       "  <tbody>\n",
       "    <tr>\n",
       "      <th>0</th>\n",
       "      <td>85.123</td>\n",
       "      <td>5.111</td>\n",
       "      <td>45.454</td>\n",
       "      <td>139.856</td>\n",
       "      <td>-999.000</td>\n",
       "      <td>-999.000</td>\n",
       "      <td>-999.000</td>\n",
       "      <td>1.288</td>\n",
       "      <td>6.593</td>\n",
       "      <td>212.788</td>\n",
       "      <td>...</td>\n",
       "      <td>1</td>\n",
       "      <td>145.787</td>\n",
       "      <td>-0.903</td>\n",
       "      <td>0.656</td>\n",
       "      <td>-999.000</td>\n",
       "      <td>-999.00</td>\n",
       "      <td>-999.000</td>\n",
       "      <td>145.787</td>\n",
       "      <td>0.512740</td>\n",
       "      <td>1.681611</td>\n",
       "    </tr>\n",
       "    <tr>\n",
       "      <th>1</th>\n",
       "      <td>70.751</td>\n",
       "      <td>16.532</td>\n",
       "      <td>47.178</td>\n",
       "      <td>107.916</td>\n",
       "      <td>4.446</td>\n",
       "      <td>442.881</td>\n",
       "      <td>-4.514</td>\n",
       "      <td>1.221</td>\n",
       "      <td>49.749</td>\n",
       "      <td>209.956</td>\n",
       "      <td>...</td>\n",
       "      <td>3</td>\n",
       "      <td>58.119</td>\n",
       "      <td>-2.876</td>\n",
       "      <td>2.317</td>\n",
       "      <td>39.964</td>\n",
       "      <td>1.57</td>\n",
       "      <td>1.271</td>\n",
       "      <td>137.049</td>\n",
       "      <td>0.019533</td>\n",
       "      <td>0.035515</td>\n",
       "    </tr>\n",
       "    <tr>\n",
       "      <th>2</th>\n",
       "      <td>-999.000</td>\n",
       "      <td>79.211</td>\n",
       "      <td>77.286</td>\n",
       "      <td>0.998</td>\n",
       "      <td>-999.000</td>\n",
       "      <td>-999.000</td>\n",
       "      <td>-999.000</td>\n",
       "      <td>1.879</td>\n",
       "      <td>0.998</td>\n",
       "      <td>92.329</td>\n",
       "      <td>...</td>\n",
       "      <td>0</td>\n",
       "      <td>-999.000</td>\n",
       "      <td>-999.000</td>\n",
       "      <td>-999.000</td>\n",
       "      <td>-999.000</td>\n",
       "      <td>-999.00</td>\n",
       "      <td>-999.000</td>\n",
       "      <td>0.000</td>\n",
       "      <td>0.000814</td>\n",
       "      <td>0.001483</td>\n",
       "    </tr>\n",
       "    <tr>\n",
       "      <th>3</th>\n",
       "      <td>74.959</td>\n",
       "      <td>58.796</td>\n",
       "      <td>58.484</td>\n",
       "      <td>24.962</td>\n",
       "      <td>-999.000</td>\n",
       "      <td>-999.000</td>\n",
       "      <td>-999.000</td>\n",
       "      <td>2.628</td>\n",
       "      <td>24.962</td>\n",
       "      <td>57.390</td>\n",
       "      <td>...</td>\n",
       "      <td>0</td>\n",
       "      <td>-999.000</td>\n",
       "      <td>-999.000</td>\n",
       "      <td>-999.000</td>\n",
       "      <td>-999.000</td>\n",
       "      <td>-999.00</td>\n",
       "      <td>-999.000</td>\n",
       "      <td>0.000</td>\n",
       "      <td>0.094460</td>\n",
       "      <td>0.171749</td>\n",
       "    </tr>\n",
       "    <tr>\n",
       "      <th>4</th>\n",
       "      <td>-999.000</td>\n",
       "      <td>82.701</td>\n",
       "      <td>109.640</td>\n",
       "      <td>2.044</td>\n",
       "      <td>-999.000</td>\n",
       "      <td>-999.000</td>\n",
       "      <td>-999.000</td>\n",
       "      <td>2.674</td>\n",
       "      <td>2.044</td>\n",
       "      <td>62.347</td>\n",
       "      <td>...</td>\n",
       "      <td>0</td>\n",
       "      <td>-999.000</td>\n",
       "      <td>-999.000</td>\n",
       "      <td>-999.000</td>\n",
       "      <td>-999.000</td>\n",
       "      <td>-999.00</td>\n",
       "      <td>-999.000</td>\n",
       "      <td>0.000</td>\n",
       "      <td>0.795081</td>\n",
       "      <td>1.445639</td>\n",
       "    </tr>\n",
       "  </tbody>\n",
       "</table>\n",
       "<p>5 rows × 32 columns</p>\n",
       "</div>"
      ],
      "text/plain": [
       "   DER_mass_MMC  DER_mass_transverse_met_lep  DER_mass_vis  DER_pt_h  \\\n",
       "0        85.123                        5.111        45.454   139.856   \n",
       "1        70.751                       16.532        47.178   107.916   \n",
       "2      -999.000                       79.211        77.286     0.998   \n",
       "3        74.959                       58.796        58.484    24.962   \n",
       "4      -999.000                       82.701       109.640     2.044   \n",
       "\n",
       "   DER_deltaeta_jet_jet  DER_mass_jet_jet  DER_prodeta_jet_jet  \\\n",
       "0              -999.000          -999.000             -999.000   \n",
       "1                 4.446           442.881               -4.514   \n",
       "2              -999.000          -999.000             -999.000   \n",
       "3              -999.000          -999.000             -999.000   \n",
       "4              -999.000          -999.000             -999.000   \n",
       "\n",
       "   DER_deltar_tau_lep  DER_pt_tot  DER_sum_pt  ...  PRI_jet_num  \\\n",
       "0               1.288       6.593     212.788  ...            1   \n",
       "1               1.221      49.749     209.956  ...            3   \n",
       "2               1.879       0.998      92.329  ...            0   \n",
       "3               2.628      24.962      57.390  ...            0   \n",
       "4               2.674       2.044      62.347  ...            0   \n",
       "\n",
       "   PRI_jet_leading_pt  PRI_jet_leading_eta  PRI_jet_leading_phi  \\\n",
       "0             145.787               -0.903                0.656   \n",
       "1              58.119               -2.876                2.317   \n",
       "2            -999.000             -999.000             -999.000   \n",
       "3            -999.000             -999.000             -999.000   \n",
       "4            -999.000             -999.000             -999.000   \n",
       "\n",
       "   PRI_jet_subleading_pt  PRI_jet_subleading_eta  PRI_jet_subleading_phi  \\\n",
       "0               -999.000                 -999.00                -999.000   \n",
       "1                 39.964                    1.57                   1.271   \n",
       "2               -999.000                 -999.00                -999.000   \n",
       "3               -999.000                 -999.00                -999.000   \n",
       "4               -999.000                 -999.00                -999.000   \n",
       "\n",
       "   PRI_jet_all_pt    Weight  KaggleWeight  \n",
       "0         145.787  0.512740      1.681611  \n",
       "1         137.049  0.019533      0.035515  \n",
       "2           0.000  0.000814      0.001483  \n",
       "3           0.000  0.094460      0.171749  \n",
       "4           0.000  0.795081      1.445639  \n",
       "\n",
       "[5 rows x 32 columns]"
      ]
     },
     "execution_count": 5,
     "metadata": {},
     "output_type": "execute_result"
    }
   ],
   "source": [
    "X_train.head()"
   ]
  },
  {
   "cell_type": "code",
   "execution_count": 6,
   "id": "75a8fc48",
   "metadata": {},
   "outputs": [
    {
     "data": {
      "text/plain": [
       "array([0.16084435, 0.10499077, 0.09077831, 0.03749557, 0.04472679,\n",
       "       0.04070803, 0.04124917, 0.0166149 , 0.01486535, 0.04417654,\n",
       "       0.04468258, 0.049161  , 0.0316253 , 0.06699805, 0.00930952,\n",
       "       0.00481408, 0.01685857, 0.01612914, 0.003587  , 0.03258432,\n",
       "       0.00524982, 0.03619625, 0.02193876, 0.03635997, 0.03292874,\n",
       "       0.01932153, 0.02260269, 0.02924771, 0.02276464, 0.03367591,\n",
       "       0.64116048, 0.64109048])"
      ]
     },
     "execution_count": 6,
     "metadata": {},
     "output_type": "execute_result"
    }
   ],
   "source": [
    "mutual_info = mutual_info_classif(X_train, y_train)\n",
    "mutual_info"
   ]
  },
  {
   "cell_type": "code",
   "execution_count": 7,
   "id": "2f7f0ccd",
   "metadata": {},
   "outputs": [
    {
     "data": {
      "text/plain": [
       "Weight                         0.641160\n",
       "KaggleWeight                   0.641090\n",
       "DER_mass_MMC                   0.160844\n",
       "DER_mass_transverse_met_lep    0.104991\n",
       "DER_mass_vis                   0.090778\n",
       "PRI_tau_pt                     0.066998\n",
       "DER_met_phi_centrality         0.049161\n",
       "DER_deltaeta_jet_jet           0.044727\n",
       "DER_pt_ratio_lep_tau           0.044683\n",
       "DER_sum_pt                     0.044177\n",
       "DER_prodeta_jet_jet            0.041249\n",
       "DER_mass_jet_jet               0.040708\n",
       "DER_pt_h                       0.037496\n",
       "PRI_jet_leading_pt             0.036360\n",
       "PRI_met_sumet                  0.036196\n",
       "PRI_jet_all_pt                 0.033676\n",
       "PRI_jet_leading_eta            0.032929\n",
       "PRI_met                        0.032584\n",
       "DER_lep_eta_centrality         0.031625\n",
       "PRI_jet_subleading_eta         0.029248\n",
       "PRI_jet_subleading_phi         0.022765\n",
       "PRI_jet_subleading_pt          0.022603\n",
       "PRI_jet_num                    0.021939\n",
       "PRI_jet_leading_phi            0.019322\n",
       "PRI_lep_pt                     0.016859\n",
       "DER_deltar_tau_lep             0.016615\n",
       "PRI_lep_eta                    0.016129\n",
       "DER_pt_tot                     0.014865\n",
       "PRI_tau_eta                    0.009310\n",
       "PRI_met_phi                    0.005250\n",
       "PRI_tau_phi                    0.004814\n",
       "PRI_lep_phi                    0.003587\n",
       "dtype: float64"
      ]
     },
     "execution_count": 7,
     "metadata": {},
     "output_type": "execute_result"
    }
   ],
   "source": [
    "mutual_info = pd.Series(mutual_info)\n",
    "mutual_info.index = X_train.columns\n",
    "mutual_info.sort_values(ascending=False)"
   ]
  },
  {
   "cell_type": "code",
   "execution_count": 8,
   "id": "6a88d4cf",
   "metadata": {},
   "outputs": [
    {
     "data": {
      "text/plain": [
       "<AxesSubplot:>"
      ]
     },
     "execution_count": 8,
     "metadata": {},
     "output_type": "execute_result"
    },
    {
     "data": {
      "image/png": "[encoded data removed]",
      "text/plain": [
       "<Figure size 1440x576 with 1 Axes>"
      ]
     },
     "metadata": {
      "needs_background": "light"
     },
     "output_type": "display_data"
    }
   ],
   "source": [
    "mutual_info.sort_values(ascending=False).plot.bar(figsize=(20, 8))"
   ]
  },
  {
   "cell_type": "code",
   "execution_count": 9,
   "id": "0a0bb585",
   "metadata": {},
   "outputs": [
    {
     "data": {
      "text/plain": [
       "array([0, 1], dtype=int64)"
      ]
     },
     "execution_count": 9,
     "metadata": {},
     "output_type": "execute_result"
    }
   ],
   "source": [
    "df['Label'].unique()"
   ]
  },
  {
   "cell_type": "code",
   "execution_count": null,
   "id": "c1eaa3d7",
   "metadata": {},
   "outputs": [],
   "source": []
  }
 ],
 "metadata": {
  "kernelspec": {
   "display_name": "Python 3 (ipykernel)",
   "language": "python",
   "name": "python3"
  },
  "language_info": {
   "codemirror_mode": {
    "name": "ipython",
    "version": 3
   },
   "file_extension": ".py",
   "mimetype": "text/x-python",
   "name": "python",
   "nbconvert_exporter": "python",
   "pygments_lexer": "ipython3",
   "version": "3.9.7"
  }
 },
 "nbformat": 4,
 "nbformat_minor": 5
}
